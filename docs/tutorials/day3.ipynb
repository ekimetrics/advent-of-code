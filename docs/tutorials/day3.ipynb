{
 "cells": [
  {
   "cell_type": "markdown",
   "metadata": {},
   "source": [
    "# Day 3: Toboggan Trajectory\n",
    "\n",
    "## Problem\n",
    "<div class=\"admonition note\">\n",
    "<p class=\"admonition-title\">Note</p>\n",
    "With the toboggan login problems resolved, you set off toward the airport. While travel by toboggan might be easy, it's certainly not safe: there's very minimal steering and the area is covered in trees. You'll need to see which angles will take you near the fewest trees.<br>\n",
    "\n",
    "Due to the local geology, trees in this area only grow on exact integer coordinates in a grid. You make a map (your puzzle input) of the open squares (.) and trees (#) you can see. For example:<br>\n",
    "   \n",
    "```\n",
    "..##.......\n",
    "#...#...#..\n",
    ".#....#..#.\n",
    "..#.#...#.#\n",
    ".#...##..#.\n",
    "..#.##.....\n",
    ".#.#.#....#\n",
    ".#........#\n",
    "#.##...#...\n",
    "#...##....#\n",
    ".#..#...#.#\n",
    "```\n",
    "\n",
    "These aren't the only trees, though; due to something you read about once involving arboreal genetics and biome stability, the same pattern repeats to the right many times<br>\n",
    "\n",
    "```\n",
    "..##.........##.........##.........##.........##.........##.......  --->\n",
    "#...#...#..#...#...#..#...#...#..#...#...#..#...#...#..#...#...#..\n",
    ".#....#..#..#....#..#..#....#..#..#....#..#..#....#..#..#....#..#.\n",
    "..#.#...#.#..#.#...#.#..#.#...#.#..#.#...#.#..#.#...#.#..#.#...#.#\n",
    ".#...##..#..#...##..#..#...##..#..#...##..#..#...##..#..#...##..#.\n",
    "..#.##.......#.##.......#.##.......#.##.......#.##.......#.##.....  --->\n",
    ".#.#.#....#.#.#.#....#.#.#.#....#.#.#.#....#.#.#.#....#.#.#.#....#\n",
    ".#........#.#........#.#........#.#........#.#........#.#........#\n",
    "#.##...#...#.##...#...#.##...#...#.##...#...#.##...#...#.##...#...\n",
    "#...##....##...##....##...##....##...##....##...##....##...##....#\n",
    ".#..#...#.#.#..#...#.#.#..#...#.#.#..#...#.#.#..#...#.#.#..#...#.#  --->\n",
    "```\n",
    "You start on the open square (.) in the top-left corner and need to reach the bottom (below the bottom-most row on your map).<br>\n",
    "\n",
    "The toboggan can only follow a few specific slopes (you opted for a cheaper model that prefers rational numbers); start by counting all the trees you would encounter for the slope right 3, down 1:<br>\n",
    "\n",
    "From your starting position at the top-left, check the position that is right 3 and down 1. Then, check the position that is right 3 and down 1 from there, and so on until you go past the bottom of the map.<br>\n",
    "\n",
    "The locations you'd check in the above example are marked here with O where there was an open square and X where there was a tree:\n",
    "\n",
    "```\n",
    "..##.........##.........##.........##.........##.........##.......  --->\n",
    "#..O#...#..#...#...#..#...#...#..#...#...#..#...#...#..#...#...#..\n",
    ".#....X..#..#....#..#..#....#..#..#....#..#..#....#..#..#....#..#.\n",
    "..#.#...#O#..#.#...#.#..#.#...#.#..#.#...#.#..#.#...#.#..#.#...#.#\n",
    ".#...##..#..X...##..#..#...##..#..#...##..#..#...##..#..#...##..#.\n",
    "..#.##.......#.X#.......#.##.......#.##.......#.##.......#.##.....  --->\n",
    ".#.#.#....#.#.#.#.O..#.#.#.#....#.#.#.#....#.#.#.#....#.#.#.#....#\n",
    ".#........#.#........X.#........#.#........#.#........#.#........#\n",
    "#.##...#...#.##...#...#.X#...#...#.##...#...#.##...#...#.##...#...\n",
    "#...##....##...##....##...#X....##...##....##...##....##...##....#\n",
    ".#..#...#.#.#..#...#.#.#..#...X.#.#..#...#.#.#..#...#.#.#..#...#.#  --->\n",
    "```\n",
    "In this example, traversing the map using this slope would cause you to encounter 7 trees.<br>\n",
    "\n",
    "Starting at the top-left corner of your map and following a slope of right 3 and down 1, how many trees would you encounter?<br>\n",
    "</div>\n",
    "\n",
    "https://adventofcode.com/2020/day/3\n"
   ]
  },
  {
   "cell_type": "markdown",
   "metadata": {},
   "source": [
    "## Solution 1"
   ]
  },
  {
   "cell_type": "markdown",
   "metadata": {},
   "source": [
    "### Tip"
   ]
  },
  {
   "cell_type": "markdown",
   "metadata": {},
   "source": [
    "You can use numpy here to avoid doing loops.<br>\n",
    "Using For loops here would work, but it would not be scalable when the size of the grid grows. <br>\n",
    "If you apply only numpy vectorization operations, it's a little more complicated but you are almost instantly scalable."
   ]
  },
  {
   "cell_type": "code",
   "execution_count": 127,
   "metadata": {
    "ExecuteTime": {
     "end_time": "2020-12-03T10:49:44.810138Z",
     "start_time": "2020-12-03T10:49:44.792020Z"
    }
   },
   "outputs": [],
   "source": [
    "import numpy as np"
   ]
  },
  {
   "cell_type": "markdown",
   "metadata": {},
   "source": [
    "### Writing the solution functions"
   ]
  },
  {
   "cell_type": "code",
   "execution_count": 128,
   "metadata": {
    "ExecuteTime": {
     "end_time": "2020-12-03T10:49:45.697779Z",
     "start_time": "2020-12-03T10:49:45.678561Z"
    }
   },
   "outputs": [],
   "source": [
    "def solve_problem(text_input: str,slope_coefs: tuple) -> int:\n",
    "    \n",
    "    # Transform the text input to a list of list of characters\n",
    "    text_array = text_input.strip().split(\"\\n\")\n",
    "    text_array = list(map(list,text_array))\n",
    "    \n",
    "    # Prepare and vectorize the slope with numpy\n",
    "    slope = np.array(slope_coefs).reshape(-1,1)\n",
    "    \n",
    "    # Convert to a matrix of 1 and 0s\n",
    "    matrix = np.int8(np.array(text_array) == \"#\")\n",
    "    \n",
    "    # Find the number of iterations to traverse vertically with a given slope\n",
    "    iterations = matrix.shape[0] / slope_coefs[0]\n",
    "    \n",
    "    # Directly find the coordinates for each points\n",
    "    index = slope * np.arange(iterations)[np.newaxis,:].repeat(2,axis = 0)\n",
    "    \n",
    "    # As the patterns repeats, we could reproduce the grid horizontally\n",
    "    # But algorithmically we can just use division with rest\n",
    "    # it will simulate that when you go out of the grid, you reappear to the left\n",
    "    index[1] = index[1] % matrix.shape[1]\n",
    "    index = index.astype(int)\n",
    "\n",
    "    # Select directly the cells in the slope\n",
    "    selection = matrix[tuple(index)]\n",
    "    \n",
    "    # Sum all values (1s if trees) to get the number on the slope\n",
    "    return np.sum(selection)"
   ]
  },
  {
   "cell_type": "markdown",
   "metadata": {},
   "source": [
    "### Solving the example"
   ]
  },
  {
   "cell_type": "code",
   "execution_count": 129,
   "metadata": {
    "ExecuteTime": {
     "end_time": "2020-12-03T10:49:46.538601Z",
     "start_time": "2020-12-03T10:49:46.526608Z"
    }
   },
   "outputs": [
    {
     "name": "stdout",
     "output_type": "stream",
     "text": [
      "\n",
      "..##.........##.........##.........##.........##.........##.......\n",
      "#...#...#..#...#...#..#...#...#..#...#...#..#...#...#..#...#...#..\n",
      ".#....#..#..#....#..#..#....#..#..#....#..#..#....#..#..#....#..#.\n",
      "..#.#...#.#..#.#...#.#..#.#...#.#..#.#...#.#..#.#...#.#..#.#...#.#\n",
      ".#...##..#..#...##..#..#...##..#..#...##..#..#...##..#..#...##..#.\n",
      "..#.##.......#.##.......#.##.......#.##.......#.##.......#.##.....\n",
      ".#.#.#....#.#.#.#....#.#.#.#....#.#.#.#....#.#.#.#....#.#.#.#....#\n",
      ".#........#.#........#.#........#.#........#.#........#.#........#\n",
      "#.##...#...#.##...#...#.##...#...#.##...#...#.##...#...#.##...#...\n",
      "#...##....##...##....##...##....##...##....##...##....##...##....#\n",
      ".#..#...#.#.#..#...#.#.#..#...#.#.#..#...#.#.#..#...#.#.#..#...#.#\n",
      "\n"
     ]
    }
   ],
   "source": [
    "x = \"\"\"\n",
    "..##.........##.........##.........##.........##.........##.......\n",
    "#...#...#..#...#...#..#...#...#..#...#...#..#...#...#..#...#...#..\n",
    ".#....#..#..#....#..#..#....#..#..#....#..#..#....#..#..#....#..#.\n",
    "..#.#...#.#..#.#...#.#..#.#...#.#..#.#...#.#..#.#...#.#..#.#...#.#\n",
    ".#...##..#..#...##..#..#...##..#..#...##..#..#...##..#..#...##..#.\n",
    "..#.##.......#.##.......#.##.......#.##.......#.##.......#.##.....\n",
    ".#.#.#....#.#.#.#....#.#.#.#....#.#.#.#....#.#.#.#....#.#.#.#....#\n",
    ".#........#.#........#.#........#.#........#.#........#.#........#\n",
    "#.##...#...#.##...#...#.##...#...#.##...#...#.##...#...#.##...#...\n",
    "#...##....##...##....##...##....##...##....##...##....##...##....#\n",
    ".#..#...#.#.#..#...#.#.#..#...#.#.#..#...#.#.#..#...#.#.#..#...#.#\n",
    "\"\"\"\n",
    "print(x)\n",
    "\n",
    "text_array = x.strip().split(\"\\n\")\n",
    "text_array = list(map(list,text_array))"
   ]
  },
  {
   "cell_type": "code",
   "execution_count": 130,
   "metadata": {
    "ExecuteTime": {
     "end_time": "2020-12-03T10:49:46.772551Z",
     "start_time": "2020-12-03T10:49:46.768561Z"
    }
   },
   "outputs": [],
   "source": [
    "matrix = np.int8(np.array(text_array) == \"#\")"
   ]
  },
  {
   "cell_type": "code",
   "execution_count": 131,
   "metadata": {
    "ExecuteTime": {
     "end_time": "2020-12-03T10:49:47.022083Z",
     "start_time": "2020-12-03T10:49:47.003132Z"
    }
   },
   "outputs": [
    {
     "data": {
      "text/plain": [
       "array([[1],\n",
       "       [3]])"
      ]
     },
     "execution_count": 131,
     "metadata": {},
     "output_type": "execute_result"
    }
   ],
   "source": [
    "slope_coefs = (1,3) # numpy is ordered differently\n",
    "slope = np.array(slope_coefs).reshape(-1,1)\n",
    "slope"
   ]
  },
  {
   "cell_type": "code",
   "execution_count": 132,
   "metadata": {
    "ExecuteTime": {
     "end_time": "2020-12-03T10:49:47.320434Z",
     "start_time": "2020-12-03T10:49:47.311460Z"
    }
   },
   "outputs": [
    {
     "data": {
      "text/plain": [
       "11.0"
      ]
     },
     "execution_count": 132,
     "metadata": {},
     "output_type": "execute_result"
    }
   ],
   "source": [
    "iterations = matrix.shape[0] / slope_coefs[0]\n",
    "iterations"
   ]
  },
  {
   "cell_type": "code",
   "execution_count": 133,
   "metadata": {
    "ExecuteTime": {
     "end_time": "2020-12-03T10:49:47.521265Z",
     "start_time": "2020-12-03T10:49:47.500625Z"
    }
   },
   "outputs": [
    {
     "data": {
      "text/plain": [
       "array([[ 0,  1,  2,  3,  4,  5,  6,  7,  8,  9, 10],\n",
       "       [ 0,  3,  6,  9, 12, 15, 18, 21, 24, 27, 30]])"
      ]
     },
     "execution_count": 133,
     "metadata": {},
     "output_type": "execute_result"
    }
   ],
   "source": [
    "index = slope * np.arange(iterations)[np.newaxis,:].repeat(2,axis = 0)\n",
    "index[1] = index[1] % matrix.shape[1]\n",
    "index = index.astype(int)\n",
    "index"
   ]
  },
  {
   "cell_type": "code",
   "execution_count": 134,
   "metadata": {
    "ExecuteTime": {
     "end_time": "2020-12-03T10:49:47.707758Z",
     "start_time": "2020-12-03T10:49:47.692830Z"
    }
   },
   "outputs": [],
   "source": [
    "selection = matrix[tuple(index)]"
   ]
  },
  {
   "cell_type": "code",
   "execution_count": 135,
   "metadata": {
    "ExecuteTime": {
     "end_time": "2020-12-03T10:49:47.865321Z",
     "start_time": "2020-12-03T10:49:47.858339Z"
    }
   },
   "outputs": [
    {
     "data": {
      "text/plain": [
       "7"
      ]
     },
     "execution_count": 135,
     "metadata": {},
     "output_type": "execute_result"
    }
   ],
   "source": [
    "np.sum(selection)"
   ]
  },
  {
   "cell_type": "markdown",
   "metadata": {},
   "source": [
    "Or using the function"
   ]
  },
  {
   "cell_type": "code",
   "execution_count": 136,
   "metadata": {
    "ExecuteTime": {
     "end_time": "2020-12-03T10:49:48.413950Z",
     "start_time": "2020-12-03T10:49:48.408000Z"
    }
   },
   "outputs": [
    {
     "data": {
      "text/plain": [
       "7"
      ]
     },
     "execution_count": 136,
     "metadata": {},
     "output_type": "execute_result"
    }
   ],
   "source": [
    "solve_problem(x,(1,3))"
   ]
  },
  {
   "cell_type": "markdown",
   "metadata": {},
   "source": [
    "### Solving the final solution"
   ]
  },
  {
   "cell_type": "code",
   "execution_count": 137,
   "metadata": {
    "ExecuteTime": {
     "end_time": "2020-12-03T10:49:49.738927Z",
     "start_time": "2020-12-03T10:49:49.725961Z"
    }
   },
   "outputs": [
    {
     "name": "stdout",
     "output_type": "stream",
     "text": [
      ".#..............##....#.#.####.\n",
      "##..........#.....##...........\n",
      ".......#....##...........#.#...\n",
      ".........#.#...#..........#....\n",
      ".........#..#................##\n",
      "..#...#..#..#...........#......\n",
      "...................#...##..##..\n",
      "........#.....##...#.#.#...#...\n",
      "#..#.##......#.#..#..........#.\n",
      "......#.#...#.#...#........##.#\n",
      ".....#.####........#...........\n",
      "...###..#............#.........\n",
      ".....#.......##......#...#.....\n",
      "#......##......................\n",
      "......#..............#.........\n",
      "..##...#....###.##..\n"
     ]
    }
   ],
   "source": [
    "text_input = open(\"inputs/day3.txt\",\"r\").read()\n",
    "print(text_input[:500])"
   ]
  },
  {
   "cell_type": "code",
   "execution_count": 138,
   "metadata": {
    "ExecuteTime": {
     "end_time": "2020-12-03T10:49:50.176115Z",
     "start_time": "2020-12-03T10:49:50.155138Z"
    }
   },
   "outputs": [
    {
     "data": {
      "text/plain": [
       "193"
      ]
     },
     "execution_count": 138,
     "metadata": {},
     "output_type": "execute_result"
    }
   ],
   "source": [
    "solve_problem(text_input,(1,3))"
   ]
  },
  {
   "cell_type": "markdown",
   "metadata": {},
   "source": [
    "## Solution 2"
   ]
  },
  {
   "cell_type": "code",
   "execution_count": 1,
   "metadata": {
    "ExecuteTime": {
     "end_time": "2020-12-03T11:23:09.529213Z",
     "start_time": "2020-12-03T11:23:09.503784Z"
    }
   },
   "outputs": [],
   "source": [
    "import numpy as np"
   ]
  },
  {
   "cell_type": "code",
   "execution_count": 3,
   "metadata": {
    "ExecuteTime": {
     "end_time": "2020-12-03T11:24:00.482536Z",
     "start_time": "2020-12-03T11:24:00.448545Z"
    }
   },
   "outputs": [],
   "source": [
    "# Load matrix from file\n",
    "matrix = []\n",
    "with open('inputs/day3.txt', 'r') as f:\n",
    "    for l in f.readlines():\n",
    "        matrix.append(\n",
    "            # Parse each line as 0's and 1's\n",
    "            list(map(int, list(l.strip().replace(\".\", \"0\").replace(\"#\", \"1\"))))\n",
    "        )"
   ]
  },
  {
   "cell_type": "code",
   "execution_count": 4,
   "metadata": {
    "ExecuteTime": {
     "end_time": "2020-12-03T11:24:22.759144Z",
     "start_time": "2020-12-03T11:24:22.728899Z"
    }
   },
   "outputs": [],
   "source": [
    "# Convert to Numpy array\n",
    "matrix = np.array(matrix)"
   ]
  },
  {
   "cell_type": "markdown",
   "metadata": {},
   "source": [
    "### Part 1"
   ]
  },
  {
   "cell_type": "code",
   "execution_count": 5,
   "metadata": {
    "ExecuteTime": {
     "end_time": "2020-12-03T11:27:59.939048Z",
     "start_time": "2020-12-03T11:27:59.908879Z"
    }
   },
   "outputs": [],
   "source": [
    "# Repeat horizontally until enough columns (aspect ratio, rounded up at next integer)\n",
    "matrix_reps = np.tile(matrix, (1, 1 + ( (3*matrix.shape[0]) // matrix.shape[1] )))"
   ]
  },
  {
   "cell_type": "code",
   "execution_count": 6,
   "metadata": {
    "ExecuteTime": {
     "end_time": "2020-12-03T11:28:00.804194Z",
     "start_time": "2020-12-03T11:28:00.749103Z"
    }
   },
   "outputs": [
    {
     "data": {
      "text/plain": [
       "193"
      ]
     },
     "execution_count": 6,
     "metadata": {},
     "output_type": "execute_result"
    }
   ],
   "source": [
    "# Use slices to select every 3rd column; diagonal corresponds to visited squares\n",
    "matrix_reps[0::1, 0::3].diagonal().sum()"
   ]
  },
  {
   "cell_type": "markdown",
   "metadata": {},
   "source": [
    "### Part 2"
   ]
  },
  {
   "cell_type": "code",
   "execution_count": 7,
   "metadata": {
    "ExecuteTime": {
     "end_time": "2020-12-03T11:28:36.839156Z",
     "start_time": "2020-12-03T11:28:36.818993Z"
    }
   },
   "outputs": [],
   "source": [
    "# Generalising part one with a function\n",
    "def check_slope(right, down):\n",
    "    matrix_reps = np.tile(matrix, ( 1, 1 + ((right*matrix.shape[0]) // matrix.shape[1]) ))\n",
    "    return matrix_reps[0::down, 0::right].diagonal().sum()"
   ]
  },
  {
   "cell_type": "code",
   "execution_count": 8,
   "metadata": {
    "ExecuteTime": {
     "end_time": "2020-12-03T11:28:44.593983Z",
     "start_time": "2020-12-03T11:28:44.574015Z"
    }
   },
   "outputs": [],
   "source": [
    "slopes = [\n",
    "    (1, 1),\n",
    "    (3, 1),\n",
    "    (5, 1),\n",
    "    (7, 1),\n",
    "    (1, 2)\n",
    "]"
   ]
  },
  {
   "cell_type": "code",
   "execution_count": 9,
   "metadata": {
    "ExecuteTime": {
     "end_time": "2020-12-03T11:28:50.899137Z",
     "start_time": "2020-12-03T11:28:50.873590Z"
    }
   },
   "outputs": [],
   "source": [
    "# Count the trees encountered with each slope. Cast as uint64 to avoid overflow when calling np.product\n",
    "trees = np.array([check_slope(r, d) for r, d in slopes], dtype='uint64')"
   ]
  },
  {
   "cell_type": "code",
   "execution_count": 10,
   "metadata": {
    "ExecuteTime": {
     "end_time": "2020-12-03T11:28:56.943881Z",
     "start_time": "2020-12-03T11:28:56.923812Z"
    }
   },
   "outputs": [
    {
     "data": {
      "text/plain": [
       "1355323200"
      ]
     },
     "execution_count": 10,
     "metadata": {},
     "output_type": "execute_result"
    }
   ],
   "source": [
    "np.product(trees)"
   ]
  },
  {
   "cell_type": "markdown",
   "metadata": {},
   "source": [
    "## Solution 3"
   ]
  },
  {
   "cell_type": "markdown",
   "metadata": {},
   "source": [
    "This solution is for-loop based, as opposed to the numpy-based solutions 1 and 2"
   ]
  },
  {
   "cell_type": "code",
   "execution_count": 3,
   "metadata": {
    "ExecuteTime": {
     "end_time": "2020-12-03T17:29:40.884053Z",
     "start_time": "2020-12-03T17:29:40.871899Z"
    }
   },
   "outputs": [],
   "source": [
    "contents = open(\"inputs/day3.txt\", \"r\").read()"
   ]
  },
  {
   "cell_type": "code",
   "execution_count": 9,
   "metadata": {
    "ExecuteTime": {
     "end_time": "2020-12-03T17:34:37.924882Z",
     "start_time": "2020-12-03T17:34:37.903009Z"
    }
   },
   "outputs": [
    {
     "data": {
      "text/plain": [
       "['.#..............##....#.#.####.',\n",
       " '##..........#.....##...........',\n",
       " '.......#....##...........#.#...']"
      ]
     },
     "execution_count": 9,
     "metadata": {},
     "output_type": "execute_result"
    }
   ],
   "source": [
    "# Transforming the text into a list of strings\n",
    "data = contents.splitlines()\n",
    "data[:3]"
   ]
  },
  {
   "cell_type": "markdown",
   "metadata": {},
   "source": [
    "### Part 1"
   ]
  },
  {
   "cell_type": "code",
   "execution_count": 11,
   "metadata": {
    "ExecuteTime": {
     "end_time": "2020-12-03T17:44:37.035634Z",
     "start_time": "2020-12-03T17:44:37.016684Z"
    }
   },
   "outputs": [],
   "source": [
    "def count_hits(data,slope:tuple) -> int:\n",
    "    # Splitting the slope tuple into distinct horizontal and vertical slopes\n",
    "    x_slope = slope[0]\n",
    "    y_slope = slope[1]\n",
    "    \n",
    "    # Initialising counters\n",
    "    hits = 0\n",
    "    x = 0  # x will represent the horizontal position\n",
    "    \n",
    "    # Looping over data using an index - this solution would work equally well simply looping over \n",
    "    # the elements of data, but I believe a coordinate-based approach is more intuitive here\n",
    "    # y_slope serves as the step in the slicer\n",
    "    for idx in range(len(data))[::y_slope]:\n",
    "\n",
    "        # modulo function on length of current row allows us to forego horizontal duplication\n",
    "        if data[idx][x % len(data[idx])] == '#':\n",
    "            hits += 1\n",
    "\n",
    "        # incrementing the horizontal position\n",
    "        x += x_slope\n",
    "        \n",
    "    return hits"
   ]
  },
  {
   "cell_type": "code",
   "execution_count": 25,
   "metadata": {
    "ExecuteTime": {
     "end_time": "2020-12-03T17:50:51.801822Z",
     "start_time": "2020-12-03T17:50:51.787721Z"
    }
   },
   "outputs": [],
   "source": [
    "slope = (3,1)"
   ]
  },
  {
   "cell_type": "code",
   "execution_count": 26,
   "metadata": {
    "ExecuteTime": {
     "end_time": "2020-12-03T17:50:53.846469Z",
     "start_time": "2020-12-03T17:50:53.829822Z"
    }
   },
   "outputs": [
    {
     "data": {
      "text/plain": [
       "193"
      ]
     },
     "execution_count": 26,
     "metadata": {},
     "output_type": "execute_result"
    }
   ],
   "source": [
    "count_hits(data, slope)"
   ]
  },
  {
   "cell_type": "code",
   "execution_count": 27,
   "metadata": {
    "ExecuteTime": {
     "end_time": "2020-12-03T17:50:55.194483Z",
     "start_time": "2020-12-03T17:50:55.182668Z"
    }
   },
   "outputs": [
    {
     "name": "stdout",
     "output_type": "stream",
     "text": [
      "The answer to part 1 of the puzzle is: 193\n"
     ]
    }
   ],
   "source": [
    "print(f\"The answer to part 1 of the puzzle is: {count_hits(data, slope)}\")"
   ]
  },
  {
   "cell_type": "markdown",
   "metadata": {},
   "source": [
    "### Part 2 "
   ]
  },
  {
   "cell_type": "code",
   "execution_count": 18,
   "metadata": {
    "ExecuteTime": {
     "end_time": "2020-12-03T17:46:56.057112Z",
     "start_time": "2020-12-03T17:46:56.047142Z"
    }
   },
   "outputs": [],
   "source": [
    "slopes = [(1,1), (3,1), (5,1), (7,1), (1,2)]"
   ]
  },
  {
   "cell_type": "code",
   "execution_count": 28,
   "metadata": {
    "ExecuteTime": {
     "end_time": "2020-12-03T17:51:06.173466Z",
     "start_time": "2020-12-03T17:51:06.160260Z"
    }
   },
   "outputs": [
    {
     "name": "stdout",
     "output_type": "stream",
     "text": [
      "The answer to part 2 of the puzzle is: 1355323200\n"
     ]
    }
   ],
   "source": [
    "# Initializing the hit product - as this will be product-based instead of sum-based,\n",
    "# initial value will be set at 1 instead of 0\n",
    "hit_prod = 1\n",
    "\n",
    "for slope in slopes:\n",
    "    hit_prod = hit_prod * count_hits(data, slope)\n",
    "    \n",
    "print(f\"The answer to part 2 of the puzzle is: {hit_prod}\")"
   ]
  }
 ],
 "metadata": {
  "kernelspec": {
   "display_name": "Python 3",
   "language": "python",
   "name": "python3"
  },
  "language_info": {
   "codemirror_mode": {
    "name": "ipython",
    "version": 3
   },
   "file_extension": ".py",
   "mimetype": "text/x-python",
   "name": "python",
   "nbconvert_exporter": "python",
   "pygments_lexer": "ipython3",
   "version": "3.7.3"
  },
  "latex_envs": {
   "LaTeX_envs_menu_present": true,
   "autoclose": false,
   "autocomplete": true,
   "bibliofile": "biblio.bib",
   "cite_by": "apalike",
   "current_citInitial": 1,
   "eqLabelWithNumbers": true,
   "eqNumInitial": 1,
   "hotkeys": {
    "equation": "Ctrl-E",
    "itemize": "Ctrl-I"
   },
   "labels_anchors": false,
   "latex_user_defs": false,
   "report_style_numbering": false,
   "user_envs_cfg": false
  },
  "toc": {
   "base_numbering": 1,
   "nav_menu": {},
   "number_sections": true,
   "sideBar": true,
   "skip_h1_title": false,
   "title_cell": "Table of Contents",
   "title_sidebar": "Contents",
   "toc_cell": false,
   "toc_position": {},
   "toc_section_display": true,
   "toc_window_display": true
  },
  "varInspector": {
   "cols": {
    "lenName": 16,
    "lenType": 16,
    "lenVar": 40
   },
   "kernels_config": {
    "python": {
     "delete_cmd_postfix": "",
     "delete_cmd_prefix": "del ",
     "library": "var_list.py",
     "varRefreshCmd": "print(var_dic_list())"
    },
    "r": {
     "delete_cmd_postfix": ") ",
     "delete_cmd_prefix": "rm(",
     "library": "var_list.r",
     "varRefreshCmd": "cat(var_dic_list()) "
    }
   },
   "types_to_exclude": [
    "module",
    "function",
    "builtin_function_or_method",
    "instance",
    "_Feature"
   ],
   "window_display": false
  }
 },
 "nbformat": 4,
 "nbformat_minor": 2
}
