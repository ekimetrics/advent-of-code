{
 "cells": [
  {
   "cell_type": "markdown",
   "metadata": {},
   "source": [
    "# Day 4: Passport Processing\n",
    "\n",
    "## Problem\n",
    "<div class=\"admonition note\">\n",
    "<p class=\"admonition-title\">Note</p>\n",
    "You arrive at the airport only to realize that you grabbed your North Pole Credentials instead of your passport. While these documents are extremely similar, North Pole Credentials aren't issued by a country and therefore aren't actually valid documentation for travel in most of the world.<br>\n",
    "\n",
    "It seems like you're not the only one having problems, though; a very long line has formed for the automatic passport scanners, and the delay could upset your travel itinerary.<br>\n",
    "\n",
    "Due to some questionable network security, you realize you might be able to solve both of these problems at the same time.<br>\n",
    "\n",
    "The automatic passport scanners are slow because they're having trouble detecting which passports have all required fields. The expected fields are as follows:\n",
    "```\n",
    "byr (Birth Year)\n",
    "iyr (Issue Year)\n",
    "eyr (Expiration Year)\n",
    "hgt (Height)\n",
    "hcl (Hair Color)\n",
    "ecl (Eye Color)\n",
    "pid (Passport ID)\n",
    "cid (Country ID)\n",
    "```\n",
    "Passport data is validated in batch files (your puzzle input). Each passport is represented as a sequence of key:value pairs separated by spaces or newlines. Passports are separated by blank lines.\n",
    "\n",
    "Here is an example batch file containing four passports:\n",
    "```\n",
    "ecl:gry pid:860033327 eyr:2020 hcl:#fffffd\n",
    "byr:1937 iyr:2017 cid:147 hgt:183cm\n",
    "\n",
    "iyr:2013 ecl:amb cid:350 eyr:2023 pid:028048884\n",
    "hcl:#cfa07d byr:1929\n",
    "\n",
    "hcl:#ae17e1 iyr:2013\n",
    "eyr:2024\n",
    "ecl:brn pid:760753108 byr:1931\n",
    "hgt:179cm\n",
    "\n",
    "hcl:#cfa07d eyr:2025 pid:166559648\n",
    "iyr:2011 ecl:brn hgt:59in\n",
    "```\n",
    "The first passport is valid - all eight fields are present. The second passport is invalid - it is missing hgt (the Height field).<br>\n",
    "\n",
    "The third passport is interesting; the only missing field is cid, so it looks like data from North Pole Credentials, not a passport at all! Surely, nobody would mind if you made the system temporarily ignore missing cid fields. Treat this \"passport\" as valid.<br>\n",
    "\n",
    "The fourth passport is missing two fields, cid and byr. Missing cid is fine, but missing any other field is not, so this passport is invalid.<br>\n",
    "\n",
    "According to the above rules, your improved system would report 2 valid passports.<br>\n",
    "\n",
    "Count the number of valid passports - those that have all required fields. Treat cid as optional. In your batch file, how many passports are valid?<br>\n",
    "</div>\n",
    "\n",
    "https://adventofcode.com/2020/day/3\n"
   ]
  },
  {
   "cell_type": "markdown",
   "metadata": {},
   "source": [
    "## Solution 1"
   ]
  },
  {
   "cell_type": "markdown",
   "metadata": {},
   "source": [
    "### Tip"
   ]
  },
  {
   "cell_type": "markdown",
   "metadata": {},
   "source": [
    "You can use numpy here to avoid doing loops.<br>\n",
    "Using For loops here would work, but it would not be scalable when the size of the grid grows. <br>\n",
    "If you apply only numpy vectorization operations, it's a little more complicated but you are almost instantly scalable."
   ]
  },
  {
   "cell_type": "code",
   "execution_count": 127,
   "metadata": {
    "ExecuteTime": {
     "end_time": "2020-12-03T10:49:44.810138Z",
     "start_time": "2020-12-03T10:49:44.792020Z"
    }
   },
   "outputs": [],
   "source": [
    "import numpy as np"
   ]
  },
  {
   "cell_type": "markdown",
   "metadata": {},
   "source": [
    "### Solving the example"
   ]
  },
  {
   "cell_type": "code",
   "execution_count": 5,
   "metadata": {
    "ExecuteTime": {
     "end_time": "2020-12-04T19:02:25.436839Z",
     "start_time": "2020-12-04T19:02:25.430602Z"
    }
   },
   "outputs": [
    {
     "data": {
      "text/plain": [
       "['ecl:gry pid:860033327 eyr:2020 hcl:#fffffd\\nbyr:1937 iyr:2017 cid:147 hgt:183cm',\n",
       " 'iyr:2013 ecl:amb cid:350 eyr:2023 pid:028048884\\nhcl:#cfa07d byr:1929',\n",
       " 'hcl:#ae17e1 iyr:2013\\neyr:2024\\necl:brn pid:760753108 byr:1931\\nhgt:179cm',\n",
       " 'hcl:#cfa07d eyr:2025 pid:166559648\\niyr:2011 ecl:brn hgt:59in']"
      ]
     },
     "execution_count": 5,
     "metadata": {},
     "output_type": "execute_result"
    }
   ],
   "source": [
    "x = \"\"\"\n",
    "ecl:gry pid:860033327 eyr:2020 hcl:#fffffd\n",
    "byr:1937 iyr:2017 cid:147 hgt:183cm\n",
    "\n",
    "iyr:2013 ecl:amb cid:350 eyr:2023 pid:028048884\n",
    "hcl:#cfa07d byr:1929\n",
    "\n",
    "hcl:#ae17e1 iyr:2013\n",
    "eyr:2024\n",
    "ecl:brn pid:760753108 byr:1931\n",
    "hgt:179cm\n",
    "\n",
    "hcl:#cfa07d eyr:2025 pid:166559648\n",
    "iyr:2011 ecl:brn hgt:59in\n",
    "\"\"\"\n",
    "text_array = x.strip().split(\"\\n\\n\")\n",
    "text_array"
   ]
  },
  {
   "cell_type": "code",
   "execution_count": 21,
   "metadata": {
    "ExecuteTime": {
     "end_time": "2020-12-04T19:12:09.497879Z",
     "start_time": "2020-12-04T19:12:09.486877Z"
    }
   },
   "outputs": [],
   "source": [
    "def passport_to_dict(x):\n",
    "    values = x.replace(\"\\n\",\" \").split(\" \")\n",
    "    d = {}\n",
    "    for value in values:\n",
    "        k,v = value.split(\":\")\n",
    "        d[k] = v\n",
    "    return d\n",
    "\n",
    "passports = [passport_to_dict(x) for x in text_array]"
   ]
  },
  {
   "cell_type": "code",
   "execution_count": 23,
   "metadata": {
    "ExecuteTime": {
     "end_time": "2020-12-04T19:14:50.097051Z",
     "start_time": "2020-12-04T19:14:50.089985Z"
    }
   },
   "outputs": [],
   "source": [
    "mandatory_keys = [\"byr\",\"iyr\",\"eyr\",\"hgt\",\"hcl\",\"ecl\",\"pid\"]\n",
    "optional_keys = [\"cid\"]"
   ]
  },
  {
   "cell_type": "code",
   "execution_count": 26,
   "metadata": {
    "ExecuteTime": {
     "end_time": "2020-12-04T19:17:12.633234Z",
     "start_time": "2020-12-04T19:17:12.620267Z"
    }
   },
   "outputs": [],
   "source": [
    "def is_passport_valid(x):\n",
    "    return set(mandatory_keys).issubset(set(x.keys()))"
   ]
  },
  {
   "cell_type": "code",
   "execution_count": 27,
   "metadata": {
    "ExecuteTime": {
     "end_time": "2020-12-04T19:18:14.343684Z",
     "start_time": "2020-12-04T19:18:14.333554Z"
    }
   },
   "outputs": [],
   "source": [
    "def count_valid(passports):\n",
    "    count = 0\n",
    "    for passport in passports:\n",
    "        count += int(is_passport_valid(passport))\n",
    "    return count"
   ]
  },
  {
   "cell_type": "code",
   "execution_count": 28,
   "metadata": {
    "ExecuteTime": {
     "end_time": "2020-12-04T19:18:24.660967Z",
     "start_time": "2020-12-04T19:18:24.641065Z"
    }
   },
   "outputs": [
    {
     "data": {
      "text/plain": [
       "2"
      ]
     },
     "execution_count": 28,
     "metadata": {},
     "output_type": "execute_result"
    }
   ],
   "source": [
    "count_valid(passports)"
   ]
  },
  {
   "cell_type": "markdown",
   "metadata": {},
   "source": [
    "### Writing the final solution function"
   ]
  },
  {
   "cell_type": "code",
   "execution_count": 33,
   "metadata": {
    "ExecuteTime": {
     "end_time": "2020-12-04T19:20:18.449521Z",
     "start_time": "2020-12-04T19:20:18.430016Z"
    }
   },
   "outputs": [],
   "source": [
    "def solve_problem(text_input: str) -> int:\n",
    "    \"\"\"Solve the day 4 problem using other helper functions\n",
    "    \"\"\"\n",
    "    \n",
    "    text_array = text_input.strip().split(\"\\n\\n\")\n",
    "    passports = [passport_to_dict(x) for x in text_array]\n",
    "    return count_valid(passports)"
   ]
  },
  {
   "cell_type": "markdown",
   "metadata": {},
   "source": [
    "### Solving the final solution"
   ]
  },
  {
   "cell_type": "code",
   "execution_count": 34,
   "metadata": {
    "ExecuteTime": {
     "end_time": "2020-12-04T19:20:19.314241Z",
     "start_time": "2020-12-04T19:20:19.303271Z"
    }
   },
   "outputs": [
    {
     "name": "stdout",
     "output_type": "stream",
     "text": [
      "iyr:2015 cid:189 ecl:oth byr:1947 hcl:#6c4ab1 eyr:2026\n",
      "hgt:174cm\n",
      "pid:526744288\n",
      "\n",
      "pid:688706448 iyr:2017 hgt:162cm cid:174 ecl:grn byr:1943 hcl:#808e9e eyr:2025\n",
      "\n",
      "ecl:oth hcl:#733820 cid:124 pid:111220591\n",
      "iyr:2019 eyr:2001\n",
      "byr:1933 hgt:159in\n",
      "\n",
      "pid:812929897 hgt:159cm hcl:#fffffd byr:1942 iyr:2026 cid:291\n",
      "ecl:oth\n",
      "eyr:2024\n",
      "\n",
      "cid:83 pid:524032739 iyr:2013 ecl:amb byr:1974\n",
      "hgt:191cm hcl:#ceb3a1 eyr:2028\n",
      "\n",
      "ecl:gry hcl:eefed5 pid:88405792 hgt:183cm cid:221 byr:1963 eyr:2029\n",
      "\n",
      "pid:777881168 ecl:grn\n",
      "hgt:181cm \n"
     ]
    }
   ],
   "source": [
    "text_input = open(\"inputs/day4.txt\",\"r\").read()\n",
    "print(text_input[:500])"
   ]
  },
  {
   "cell_type": "code",
   "execution_count": 35,
   "metadata": {
    "ExecuteTime": {
     "end_time": "2020-12-04T19:20:19.874787Z",
     "start_time": "2020-12-04T19:20:19.860823Z"
    }
   },
   "outputs": [
    {
     "data": {
      "text/plain": [
       "264"
      ]
     },
     "execution_count": 35,
     "metadata": {},
     "output_type": "execute_result"
    }
   ],
   "source": [
    "solve_problem(text_input)"
   ]
  },
  {
   "cell_type": "code",
   "execution_count": null,
   "metadata": {},
   "outputs": [],
   "source": []
  }
 ],
 "metadata": {
  "kernelspec": {
   "display_name": "Python 3",
   "language": "python",
   "name": "python3"
  },
  "language_info": {
   "codemirror_mode": {
    "name": "ipython",
    "version": 3
   },
   "file_extension": ".py",
   "mimetype": "text/x-python",
   "name": "python",
   "nbconvert_exporter": "python",
   "pygments_lexer": "ipython3",
   "version": "3.7.4"
  },
  "latex_envs": {
   "LaTeX_envs_menu_present": true,
   "autoclose": false,
   "autocomplete": true,
   "bibliofile": "biblio.bib",
   "cite_by": "apalike",
   "current_citInitial": 1,
   "eqLabelWithNumbers": true,
   "eqNumInitial": 1,
   "hotkeys": {
    "equation": "Ctrl-E",
    "itemize": "Ctrl-I"
   },
   "labels_anchors": false,
   "latex_user_defs": false,
   "report_style_numbering": false,
   "user_envs_cfg": false
  },
  "toc": {
   "base_numbering": 1,
   "nav_menu": {},
   "number_sections": true,
   "sideBar": true,
   "skip_h1_title": false,
   "title_cell": "Table of Contents",
   "title_sidebar": "Contents",
   "toc_cell": false,
   "toc_position": {},
   "toc_section_display": true,
   "toc_window_display": true
  },
  "varInspector": {
   "cols": {
    "lenName": 16,
    "lenType": 16,
    "lenVar": 40
   },
   "kernels_config": {
    "python": {
     "delete_cmd_postfix": "",
     "delete_cmd_prefix": "del ",
     "library": "var_list.py",
     "varRefreshCmd": "print(var_dic_list())"
    },
    "r": {
     "delete_cmd_postfix": ") ",
     "delete_cmd_prefix": "rm(",
     "library": "var_list.r",
     "varRefreshCmd": "cat(var_dic_list()) "
    }
   },
   "types_to_exclude": [
    "module",
    "function",
    "builtin_function_or_method",
    "instance",
    "_Feature"
   ],
   "window_display": false
  }
 },
 "nbformat": 4,
 "nbformat_minor": 2
}
